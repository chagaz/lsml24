{
 "cells": [
  {
   "cell_type": "markdown",
   "id": "5ed31692-4036-4ce9-ab20-479d4b2b88cc",
   "metadata": {},
   "source": [
    "# <!-- TITLE --> Sentiment analysis\n",
    "<!-- DESC --> This notebook is an example of sentiment analysis using a dataset from Internet Movie Database (IMDB). \n",
    "<!-- AUTHOR : Jean-Luc Parouty (CNRS/SIMaP) -->\n",
    "\n",
    "## Objectives :\n",
    " - The objective is to guess whether film reviews are **positive or negative** based on the analysis of the text. \n",
    " - Understand the management of **textual data** and **sentiment analysis**\n",
    "\n",
    "It is decomposed in 3 parts:\n",
    "\n",
    "- **Part 1**: Build a classifier with one-hot encoding\n",
    "- **Part 2**: Replace one-hot endodings by word embeddings\n",
    "- **Part 3**: Combine word embedding and a recurrent architecture\n",
    "\n",
    "Original dataset can be find **[there](http://ai.stanford.edu/~amaas/data/sentiment/)**  \n",
    "Note that [IMDb.com](https://imdb.com) offers several easy-to-use [datasets](https://www.imdb.com/interfaces/)  \n",
    "For simplicity's sake, we'll use the dataset directly [embedded in Keras](https://www.tensorflow.org/api_docs/python/tf/keras/datasets)\n",
    "\n",
    "## What we're going to do :\n",
    "\n",
    " - Retrieve data\n",
    " - Preparing the data\n",
    " - Build a model\n",
    " - Train the model\n",
    " - Evaluate the result\n",
    "\n",
    "Disclaimer: This notebook is based on [fidle-cnrs](https://gricad-gitlab.univ-grenoble-alpes.fr/talks/fidle/-/tree/master)"
   ]
  },
  {
   "cell_type": "markdown",
   "id": "df07f45e-263f-4fb3-b147-e0a0afc9555c",
   "metadata": {},
   "source": [
    "# Preliminaries: import and init"
   ]
  },
  {
   "cell_type": "code",
   "execution_count": null,
   "id": "84ea1ae6-4102-47a2-8f73-ef107c6f18ba",
   "metadata": {
    "tags": []
   },
   "outputs": [],
   "source": [
    "import numpy as np\n",
    "\n",
    "import tensorflow as tf\n",
    "import tensorflow.keras as keras\n",
    "import tensorflow.keras.datasets.imdb as imdb\n",
    "\n",
    "import matplotlib.pyplot as plt\n",
    "import matplotlib\n",
    "\n",
    "import pandas as pd\n",
    "\n",
    "from sklearn.metrics import confusion_matrix\n",
    "\n",
    "import os,sys,h5py,json\n",
    "from importlib import reload"
   ]
  },
  {
   "cell_type": "code",
   "execution_count": null,
   "id": "f28592d6-07dc-4370-b738-229729c8aa60",
   "metadata": {},
   "outputs": [],
   "source": [
    "run_dir = os.getcwd()\n",
    "output_dir='data'"
   ]
  },
  {
   "cell_type": "markdown",
   "id": "8cd46009-77da-4058-bad0-9331d0513fa3",
   "metadata": {},
   "source": [
    "# Part 1: Model based on one-hot encoding"
   ]
  },
  {
   "cell_type": "markdown",
   "id": "81313c94-0778-49d6-a973-e34530ac0dea",
   "metadata": {},
   "source": [
    "## Step 1 - Parameters"
   ]
  },
  {
   "cell_type": "markdown",
   "id": "b3f8e5d4-b297-4340-a591-f6853e44da9e",
   "metadata": {},
   "source": [
    "The words in the vocabulary are classified from the most frequent to the rarest.\\\n",
    "`vocab_size` is the number of words we will remember in our vocabulary (the other words will be considered as unknown).\\\n",
    "`hide_most_frequently` is the number of ignored words, among the most common ones\\\n",
    "`fit_verbosity` is the verbosity during training : 0 = silent, 1 = progress bar, 2 = one line per epoch"
   ]
  },
  {
   "cell_type": "code",
   "execution_count": null,
   "id": "8bc3f2b8-8c28-4156-b6f8-92f31c173220",
   "metadata": {},
   "outputs": [],
   "source": [
    "vocab_size           = 5000\n",
    "hide_most_frequently = 0\n",
    "\n",
    "epochs               = 10\n",
    "batch_size           = 512\n",
    "fit_verbosity        = 1"
   ]
  },
  {
   "cell_type": "markdown",
   "id": "c4a56e14-c182-4e8d-b940-c5df0e000f33",
   "metadata": {},
   "source": [
    "## Step 2 - Understanding hot-one encoding\n",
    "#### We have a **sentence** and a **dictionary** :"
   ]
  },
  {
   "cell_type": "code",
   "execution_count": null,
   "id": "d7033edf-e223-4da9-9606-7d8f9ce3663c",
   "metadata": {},
   "outputs": [],
   "source": [
    "sentence = \"I've never seen a movie like this before\"\n",
    "\n",
    "dictionary  = {\"a\":0, \"before\":1, \"fantastic\":2, \"i've\":3, \"is\":4, \"like\":5, \"movie\":6, \"never\":7, \"seen\":8, \"this\":9}"
   ]
  },
  {
   "cell_type": "markdown",
   "id": "76e46d54-ba81-4f3f-862f-df3b3c4bc689",
   "metadata": {},
   "source": [
    "#### We encode our sentence as a **numerical vector** :"
   ]
  },
  {
   "cell_type": "code",
   "execution_count": null,
   "id": "c253a249-626f-4c46-b27b-6ebe7a15fcbf",
   "metadata": {},
   "outputs": [],
   "source": [
    "sentence_words = sentence.lower().split()\n",
    "\n",
    "sentence_vect  = [ dictionary[w] for w in sentence_words ]\n",
    "\n",
    "print('Words sentence are         : ', sentence_words)\n",
    "print('Our vectorized sentence is : ', sentence_vect)"
   ]
  },
  {
   "cell_type": "markdown",
   "id": "68321ad9-0369-448c-ba0c-b3d74461cf1a",
   "metadata": {},
   "source": [
    "#### Next, we **one-hot** encode our vectorized sentence as a tensor :"
   ]
  },
  {
   "cell_type": "code",
   "execution_count": null,
   "id": "f7b6be14-7684-4063-993a-e0583628d198",
   "metadata": {},
   "outputs": [],
   "source": [
    "# ---- We get a (sentence length x vector size) matrix of zeros\n",
    "#\n",
    "onehot = np.zeros( (10,8) )\n",
    "\n",
    "# ---- We set some 1 for each word\n",
    "#\n",
    "for i,w in enumerate(sentence_vect):\n",
    "    onehot[w,i]=1\n",
    "\n",
    "# --- Show it\n",
    "#\n",
    "print('In a basic way :\\n\\n', onehot, '\\n\\nWith a pandas wiew :\\n')\n",
    "data={ f'{sentence_words[i]:.^10}':onehot[:,i] for i,w in enumerate(sentence_vect) }\n",
    "df=pd.DataFrame(data)\n",
    "df.index=dictionary.keys()\n",
    "# --- Pandas Warning \n",
    "# \n",
    "df.style.format('{:1.0f}').highlight_max(axis=0).set_properties(**{'text-align': 'center'})"
   ]
  },
  {
   "cell_type": "markdown",
   "id": "9759b4b6-be21-469c-9402-cd090d8054df",
   "metadata": {},
   "source": [
    "### 3.2 - Load dataset\n",
    "For simplicity, we will use a pre-formatted dataset - See [documentation](https://www.tensorflow.org/api_docs/python/tf/keras/datasets/imdb/load_data)  \n",
    "However, Keras offers some usefull tools for formatting textual data - See [documentation](https://www.tensorflow.org/api_docs/python/tf/keras/preprocessing/text)  \n",
    "\n",
    "By default : \n",
    " - Start of a sequence will be marked with : 1\n",
    " - Out of vocabulary word will be : 2\n",
    " - First index will be : 3"
   ]
  },
  {
   "cell_type": "code",
   "execution_count": null,
   "id": "691e9e24-84f8-433e-9eb9-69393be82c4f",
   "metadata": {},
   "outputs": [],
   "source": [
    "# ----- Retrieve x,y\n",
    "#\n",
    "(x_train, y_train), (x_test, y_test) = imdb.load_data( num_words=vocab_size, skip_top=hide_most_frequently)\n",
    "\n",
    "y_train = np.asarray(y_train).astype('float32')\n",
    "y_test  = np.asarray(y_test ).astype('float32')\n",
    "\n",
    "# ---- About\n",
    "#\n",
    "print(\"x_train : {}  y_train : {}\".format(x_train.shape, y_train.shape))\n",
    "print(\"x_test  : {}  y_test  : {}\".format(x_test.shape,  y_test.shape))"
   ]
  },
  {
   "cell_type": "markdown",
   "id": "479f2a6a-c5b9-427e-bb91-0f70b08586d1",
   "metadata": {},
   "source": [
    "## Step 4 - About our dataset\n",
    "When we loaded the dataset, we asked for using \\<start\\> as 1, \\<unknown word\\> as 2  \n",
    "So, we shifted the dataset by 3 with the parameter index_from=3\n",
    "\n",
    "### 4.1 - Sentences encoding"
   ]
  },
  {
   "cell_type": "code",
   "execution_count": null,
   "id": "759a6ac7-3969-4b16-b283-c9eaf9301909",
   "metadata": {},
   "outputs": [],
   "source": [
    "print('\\nReview example (x_train[12]) :\\n\\n',x_train[12])\n",
    "print('\\nOpinions (y_train) :\\n\\n',y_train)"
   ]
  },
  {
   "cell_type": "markdown",
   "id": "b6f60e69-4279-4932-b644-f261b22f2ac3",
   "metadata": {},
   "source": [
    "### 4.2 - Load dictionary"
   ]
  },
  {
   "cell_type": "code",
   "execution_count": null,
   "id": "db56ef9b-ed88-4f05-9dd0-b18241f51cc0",
   "metadata": {},
   "outputs": [],
   "source": [
    "# ---- Retrieve dictionary {word:index}, and encode it in ascii\n",
    "#\n",
    "word_index = imdb.get_word_index()\n",
    "\n",
    "# ---- Shift the dictionary from +3\n",
    "#\n",
    "word_index = {w:(i+3) for w,i in word_index.items()}\n",
    "\n",
    "# ---- Add <pad>, <start> and <unknown> tags\n",
    "#\n",
    "word_index.update( {'<pad>':0, '<start>':1, '<unknown>':2, '<undef>':3,} )\n",
    "\n",
    "# ---- Create a reverse dictionary : {index:word}\n",
    "#\n",
    "index_word = {index:word for word,index in word_index.items()} \n",
    "\n",
    "# ---- About dictionary\n",
    "#\n",
    "print('\\nDictionary size     : ', len(word_index))\n",
    "print('\\nSmall extract :\\n')\n",
    "for k in range(440,455):print(f'    {k:2d} : {index_word[k]}' )\n",
    "\n",
    "# ---- Add a nice function to transpose :\n",
    "#\n",
    "def dataset2text(review):\n",
    "    return ' '.join([index_word.get(i, '?') for i in review])"
   ]
  },
  {
   "cell_type": "markdown",
   "id": "567b9ee6-a35c-4582-9960-d3c22a7b8b41",
   "metadata": {},
   "source": [
    "### 4.3 - Have a look, for human"
   ]
  },
  {
   "cell_type": "code",
   "execution_count": null,
   "id": "2f3e92ee-52e7-434a-a3b9-ecb4220e45b0",
   "metadata": {},
   "outputs": [],
   "source": [
    "print(f'Review example : \\n{x_train[12]}')\n",
    "\n",
    "print(f'After translation : \\n{dataset2text(x_train[12])}')"
   ]
  },
  {
   "cell_type": "markdown",
   "id": "53aa92fe-42bd-4ac0-9059-ec467e589f73",
   "metadata": {},
   "source": [
    "### 4.4 - Few statistics"
   ]
  },
  {
   "cell_type": "code",
   "execution_count": null,
   "id": "138147d5-8af9-469f-872b-c8c5667a3d42",
   "metadata": {},
   "outputs": [],
   "source": [
    "sizes=[len(i) for i in x_train]\n",
    "plt.figure(figsize=(16,6))\n",
    "plt.hist(sizes, bins=400)\n",
    "plt.gca().set(title='Distribution of reviews by size - [{:5.2f}, {:5.2f}]'.format(min(sizes),max(sizes)), \n",
    "              xlabel='Size', ylabel='Density', xlim=[0,1500])\n",
    "plt.show()"
   ]
  },
  {
   "cell_type": "code",
   "execution_count": null,
   "id": "ff1e6f0e-0f44-4eb0-9bfe-bcabe4428f6e",
   "metadata": {},
   "outputs": [],
   "source": [
    "unk=[ 100*(s.count(2)/len(s)) for s in x_train]\n",
    "plt.figure(figsize=(16,6))\n",
    "plt.hist(unk, bins=100)\n",
    "plt.gca().set(title='Percent of unknown words - [{:5.2f}, {:5.2f}]'.format(min(unk),max(unk)), \n",
    "              xlabel='# unknown', ylabel='Density', xlim=[0,30])\n",
    "plt.show()"
   ]
  },
  {
   "cell_type": "markdown",
   "id": "2ee0d06d-c4bf-4753-8a54-21b856b1d938",
   "metadata": {},
   "source": [
    "## Step 5 - Basic approach with \"one-hot\" vector encoding\n",
    "\n",
    "Each sentence is encoded with a **vector** of length equal to the **size of the dictionary**.   \n",
    "\n",
    "Each sentence will therefore be encoded with a simple vector.  \n",
    "The value of each component is 0 if the word is not present in the sentence or 1 if the word is present.\n",
    "\n",
    "For a sentence s=[3,4,7] and a dictionary of 10 words...    \n",
    "We wil have a vector v=[0,0,0,1,1,0,0,1,0,0,0]\n",
    "\n",
    "### 5.1 - Our one-hot encoder"
   ]
  },
  {
   "cell_type": "code",
   "execution_count": null,
   "id": "9ef4470e-1645-470c-94cc-febe0667e36d",
   "metadata": {},
   "outputs": [],
   "source": [
    "def one_hot_encoder(x, vector_size=10000):\n",
    "    \n",
    "    # ---- Set all to 0\n",
    "    #\n",
    "    x_encoded = np.zeros((len(x), vector_size))\n",
    "    \n",
    "    # ---- For each sentence\n",
    "    #\n",
    "    for i,sentence in enumerate(x):\n",
    "        for word in sentence:\n",
    "            x_encoded[i, word] = 1.\n",
    "\n",
    "    return x_encoded"
   ]
  },
  {
   "cell_type": "markdown",
   "id": "f4139326-fae2-4aa7-8162-f0c4b12f155c",
   "metadata": {},
   "source": [
    "### 5.2 - Encoding"
   ]
  },
  {
   "cell_type": "code",
   "execution_count": null,
   "id": "ed2be334-315c-4b85-8ae6-d2dbf1dcc6d7",
   "metadata": {},
   "outputs": [],
   "source": [
    "x_train_one_hot = one_hot_encoder(x_train, vector_size=vocab_size)\n",
    "x_test_one_hot  = one_hot_encoder(x_test,  vector_size=vocab_size)\n",
    "\n",
    "print(\"To have a look, x_train[12] became :\", x_train_one_hot[12] )"
   ]
  },
  {
   "cell_type": "markdown",
   "id": "ae6b2e6a-3517-4e5c-827e-91f145b8badc",
   "metadata": {},
   "source": [
    "## Step 6 - Build the model"
   ]
  },
  {
   "cell_type": "code",
   "execution_count": null,
   "id": "12d0cc68-ca7f-4dbc-ae85-316b6f71bd24",
   "metadata": {},
   "outputs": [],
   "source": [
    "def get_model(vector_size=10000):\n",
    "    \n",
    "    model = keras.Sequential()\n",
    "    model.add(keras.layers.Input( shape=(vector_size,) ))\n",
    "    model.add(keras.layers.Dense( 32, activation='relu'))\n",
    "    model.add(keras.layers.Dense( 32, activation='relu'))\n",
    "    model.add(keras.layers.Dense( 1, activation='sigmoid'))\n",
    "    \n",
    "    model.compile(optimizer = 'rmsprop',\n",
    "                  loss      = 'binary_crossentropy',\n",
    "                  metrics   = ['accuracy'])\n",
    "    return model"
   ]
  },
  {
   "cell_type": "markdown",
   "id": "a9c7f111-0b3a-4608-b39b-d031f2018722",
   "metadata": {},
   "source": [
    "## Step 7 - Train the model\n",
    "### 7.1 - Get it"
   ]
  },
  {
   "cell_type": "code",
   "execution_count": null,
   "id": "33c20802-1698-4a26-a471-8d1f93c0f7e3",
   "metadata": {},
   "outputs": [],
   "source": [
    "model = get_model(vector_size=vocab_size)\n",
    "\n",
    "model.summary()"
   ]
  },
  {
   "cell_type": "markdown",
   "id": "059f63d1-0e03-45fc-8712-119bc2a5f90d",
   "metadata": {},
   "source": [
    "### 7.2 - Add callback"
   ]
  },
  {
   "cell_type": "code",
   "execution_count": null,
   "id": "cdb91943-4e80-4997-8866-56e83a0cedf7",
   "metadata": {},
   "outputs": [],
   "source": [
    "os.makedirs(f'{run_dir}/models',   mode=0o750, exist_ok=True)\n",
    "save_dir = f'{run_dir}/models/best_model_one_hot.h5'\n",
    "savemodel_callback = tf.keras.callbacks.ModelCheckpoint(filepath=save_dir, verbose=0, save_best_only=True)"
   ]
  },
  {
   "cell_type": "markdown",
   "id": "bcdf35f2-8ae7-4820-8844-c6d48d1c46b5",
   "metadata": {},
   "source": [
    "### 7.3 - Train it"
   ]
  },
  {
   "cell_type": "code",
   "execution_count": null,
   "id": "e7f1ee1c-4f82-4e04-bb6b-2c4683c74e0d",
   "metadata": {},
   "outputs": [],
   "source": [
    "%%time\n",
    "\n",
    "history = model.fit(x_train_one_hot,\n",
    "                    y_train,\n",
    "                    epochs          = epochs,\n",
    "                    batch_size      = batch_size,\n",
    "                    validation_data = (x_test_one_hot, y_test),\n",
    "                    verbose         = fit_verbosity,\n",
    "                    callbacks       = [savemodel_callback])\n"
   ]
  },
  {
   "cell_type": "markdown",
   "id": "4b637e2c-4465-4e29-946a-79dfb432bf0c",
   "metadata": {},
   "source": [
    "## Step 8 - Evaluate\n",
    "### 8.1 - Training history"
   ]
  },
  {
   "cell_type": "code",
   "execution_count": null,
   "id": "55ffc55f-caf4-47fd-9af7-3a93af51e7d0",
   "metadata": {},
   "outputs": [],
   "source": [
    "plt.plot(history.history['loss'])\n",
    "plt.plot(history.history['val_loss'])\n",
    "plt.title('model loss')\n",
    "plt.ylabel('loss')\n",
    "plt.xlabel('epoch')\n",
    "plt.legend(['train', 'test'], loc='upper left')\n",
    "plt.show()"
   ]
  },
  {
   "cell_type": "code",
   "execution_count": null,
   "id": "0348e929-252e-4249-beb1-4ddd3d0229d9",
   "metadata": {},
   "outputs": [],
   "source": [
    "plt.plot(history.history['accuracy'])\n",
    "plt.plot(history.history['val_accuracy'])\n",
    "plt.title('model accuracy')\n",
    "plt.ylabel('accuracy')\n",
    "plt.xlabel('epoch')\n",
    "plt.legend(['train', 'test'], loc='upper left')\n",
    "plt.show()"
   ]
  },
  {
   "cell_type": "markdown",
   "id": "81fb507e-2bda-42ea-8be9-5ef21a4f148e",
   "metadata": {},
   "source": [
    "### 8.2 - Reload and evaluate best model"
   ]
  },
  {
   "cell_type": "code",
   "execution_count": null,
   "id": "ff106e18-8d4f-4ce6-8c7f-aae7fedd76da",
   "metadata": {},
   "outputs": [],
   "source": [
    "model = keras.models.load_model(f'{run_dir}/models/best_model_one_hot.h5')\n",
    "\n",
    "# ---- Evaluate\n",
    "score  = model.evaluate(x_test_one_hot, y_test, verbose=0)\n",
    "\n",
    "print('x_test / loss      : {:5.4f}'.format(score[0]))\n",
    "print('x_test / accuracy  : {:5.4f}'.format(score[1]))\n",
    "\n",
    "values=[score[1], 1-score[1]]\n",
    "\n",
    "# ---- Confusion matrix\n",
    "\n",
    "y_sigmoid = model.predict(x_test_one_hot)\n",
    "\n",
    "y_pred = y_sigmoid.copy()\n",
    "y_pred[ y_sigmoid< 0.5 ] = 0\n",
    "y_pred[ y_sigmoid>=0.5 ] = 1    \n",
    "\n",
    "confusion_matrix(y_test, y_pred, labels=range(2))"
   ]
  },
  {
   "cell_type": "markdown",
   "id": "889f203a-dc70-4a8e-9ea0-bf2fcec1c0ec",
   "metadata": {},
   "source": [
    "## Questions\n",
    "\n",
    "1. What are the drawbacks of this encoding approach?\n",
    "2. Does the model seem to overfit/underfit the data? On which hyperparameter(s) can you act to resolve this?"
   ]
  },
  {
   "cell_type": "markdown",
   "id": "dceacfd8-3436-4909-b7ed-15002d0cbd91",
   "metadata": {},
   "source": [
    "# **Part 2: Word embeddings**"
   ]
  },
  {
   "cell_type": "markdown",
   "id": "3fcad957-ad0e-4734-b5da-bff0f06271e6",
   "metadata": {},
   "source": [
    "## Step 1 - Preprocess the data"
   ]
  },
  {
   "cell_type": "markdown",
   "id": "1f6ec975-bd9e-49d0-b58c-1b549e3accba",
   "metadata": {},
   "source": [
    "### 1.1 - Parameters\n",
    "The words in the vocabulary are classified from the most frequent to the rarest.  \n",
    "`review_len` is the review length  \n",
    "`dense_vector_size` is the size of the generated dense vectors  \n",
    "`output_dir` is where we will go to save our dictionaries. (./data is a good choice)\\\n",
    "`fit_verbosity` is the verbosity during training : 0 = silent, 1 = progress bar, 2 = one line per epoch"
   ]
  },
  {
   "cell_type": "code",
   "execution_count": null,
   "id": "3e4fead3-276b-4e45-b019-99d7a32d7f61",
   "metadata": {},
   "outputs": [],
   "source": [
    "review_len           = 256\n",
    "dense_vector_size    = 32\n",
    "\n",
    "epochs               = 30\n",
    "batch_size           = 512\n",
    "\n",
    "output_dir           = './data'\n",
    "fit_verbosity        = 1"
   ]
  },
  {
   "cell_type": "markdown",
   "id": "4415ea8b-f455-4196-bf83-9dd89eadff3c",
   "metadata": {},
   "source": [
    "### 1.2 - Padding\n",
    "\n",
    "In order to be processed by an embedding neural network, all entries must have the **same length.**  \n",
    "We chose a review length of **review_len**  \n",
    "We will therefore complete them with a padding (of \\<pad\\>\\)  "
   ]
  },
  {
   "cell_type": "code",
   "execution_count": null,
   "id": "1e64657d-ed10-4c31-90d0-0653381cec66",
   "metadata": {},
   "outputs": [],
   "source": [
    "x_train_pad = keras.preprocessing.sequence.pad_sequences(x_train,\n",
    "                                                     value   = 0,\n",
    "                                                     padding = 'post',\n",
    "                                                     maxlen  = review_len)\n",
    "\n",
    "x_test_pad  = keras.preprocessing.sequence.pad_sequences(x_test,\n",
    "                                                     value   = 0 ,\n",
    "                                                     padding = 'post',\n",
    "                                                     maxlen  = review_len)\n",
    "\n",
    "# fidle.utils.subtitle('After padding :')\n",
    "print(f'After padding: {x_train_pad[12]}')"
   ]
  },
  {
   "cell_type": "markdown",
   "id": "a3b71a48-82ca-4a1f-80ea-433d74b9325e",
   "metadata": {},
   "source": [
    "## Step 2 - Build the model\n",
    "\n",
    "More documentation about this model functions :\n",
    " - [Embedding](https://www.tensorflow.org/api_docs/python/tf/keras/layers/Embedding)\n",
    " - [GlobalAveragePooling1D](https://www.tensorflow.org/api_docs/python/tf/keras/layers/GlobalAveragePooling1D)"
   ]
  },
  {
   "cell_type": "code",
   "execution_count": null,
   "id": "90c06e4c-e5ab-434e-8489-e00dc650c7c6",
   "metadata": {},
   "outputs": [],
   "source": [
    "def get_model(vocab_size=10000, dense_vector_size=32, review_len=256):\n",
    "    \n",
    "    model = keras.Sequential()\n",
    "    model.add(keras.layers.Input( shape=(review_len,) ))\n",
    "    model.add(keras.layers.Embedding(input_dim    = vocab_size, \n",
    "                                     output_dim   = dense_vector_size, \n",
    "                                     input_length = review_len))\n",
    "    model.add(keras.layers.GlobalAveragePooling1D())\n",
    "    model.add(keras.layers.Dense(dense_vector_size, activation='relu'))\n",
    "    model.add(keras.layers.Dense(1,                 activation='sigmoid'))\n",
    "\n",
    "    model.compile(optimizer = 'adam',\n",
    "                  loss      = 'binary_crossentropy',\n",
    "                  metrics   = ['accuracy'])\n",
    "    return model"
   ]
  },
  {
   "cell_type": "markdown",
   "id": "77bfcd3c-5c85-401b-9ce8-c2f7d42e9a66",
   "metadata": {},
   "source": [
    "## Step 3 - Train the model\n",
    "### 3.1 - Get it"
   ]
  },
  {
   "cell_type": "code",
   "execution_count": null,
   "id": "a60c17d5-9fb0-495c-b611-9963abb71d77",
   "metadata": {},
   "outputs": [],
   "source": [
    "model = get_model(vocab_size, dense_vector_size, review_len)\n",
    "\n",
    "model.summary()"
   ]
  },
  {
   "cell_type": "markdown",
   "id": "ed2a3e8d-8714-4495-90b4-678db4258778",
   "metadata": {},
   "source": [
    "### 3.2 - Add callback"
   ]
  },
  {
   "cell_type": "code",
   "execution_count": null,
   "id": "1c777eb7-6645-46ba-a67b-eb0835f99a35",
   "metadata": {},
   "outputs": [],
   "source": [
    "os.makedirs(f'{run_dir}/models',   mode=0o750, exist_ok=True)\n",
    "save_dir = f'{run_dir}/models/best_model_embeddings.h5'\n",
    "savemodel_callback = tf.keras.callbacks.ModelCheckpoint(filepath=save_dir, verbose=0, save_best_only=True)"
   ]
  },
  {
   "cell_type": "markdown",
   "id": "6e43d635-ac1f-4d95-a7d7-a669a97c887f",
   "metadata": {},
   "source": [
    "### 3.3 - Train it"
   ]
  },
  {
   "cell_type": "code",
   "execution_count": null,
   "id": "f2236122-795f-4d08-9577-55be8b9416f6",
   "metadata": {
    "scrolled": true,
    "tags": []
   },
   "outputs": [],
   "source": [
    "%%time\n",
    "\n",
    "history = model.fit(x_train_pad,\n",
    "                    y_train,\n",
    "                    epochs          = epochs,\n",
    "                    batch_size      = batch_size,\n",
    "                    validation_data = (x_test_pad, y_test),\n",
    "                    verbose         = fit_verbosity,\n",
    "                    callbacks       = [savemodel_callback])\n"
   ]
  },
  {
   "cell_type": "markdown",
   "id": "22b8d3ec-664b-46ef-9aee-3ec05c993bae",
   "metadata": {},
   "source": [
    "## Step 4 - Evaluate\n",
    "### 4.1 - Training history"
   ]
  },
  {
   "cell_type": "code",
   "execution_count": null,
   "id": "dc43fe88-0ce7-48bf-95b0-4fc18310f28a",
   "metadata": {},
   "outputs": [],
   "source": [
    "plt.plot(history.history['loss'])\n",
    "plt.plot(history.history['val_loss'])\n",
    "plt.title('model loss')\n",
    "plt.ylabel('loss')\n",
    "plt.xlabel('epoch')\n",
    "plt.legend(['train', 'test'], loc='upper left')\n",
    "plt.show()"
   ]
  },
  {
   "cell_type": "code",
   "execution_count": null,
   "id": "59e4b8ad-d34a-4a0d-a067-e2b34ab89b04",
   "metadata": {},
   "outputs": [],
   "source": [
    "plt.plot(history.history['accuracy'])\n",
    "plt.plot(history.history['val_accuracy'])\n",
    "plt.title('model accuracy')\n",
    "plt.ylabel('accuracy')\n",
    "plt.xlabel('epoch')\n",
    "plt.legend(['train', 'test'], loc='upper left')\n",
    "plt.show()"
   ]
  },
  {
   "cell_type": "markdown",
   "id": "f58481b7-eb2f-4e36-83a5-b6c3de573c43",
   "metadata": {},
   "source": [
    "### 4.2 - Reload and evaluate best model"
   ]
  },
  {
   "cell_type": "code",
   "execution_count": null,
   "id": "1beecaf1-6a77-4c8c-8d60-bae9f8942076",
   "metadata": {},
   "outputs": [],
   "source": [
    "model = keras.models.load_model(f'{run_dir}/models/best_model_embeddings.h5')\n",
    "\n",
    "# ---- Evaluate\n",
    "score  = model.evaluate(x_test_pad, y_test, verbose=0)\n",
    "\n",
    "print('x_test / loss      : {:5.4f}'.format(score[0]))\n",
    "print('x_test / accuracy  : {:5.4f}'.format(score[1]))\n",
    "\n",
    "values=[score[1], 1-score[1]]\n",
    "\n",
    "# ---- Confusion matrix\n",
    "\n",
    "y_sigmoid = model.predict(x_test_pad)\n",
    "\n",
    "y_pred = y_sigmoid.copy()\n",
    "y_pred[ y_sigmoid< 0.5 ] = 0\n",
    "y_pred[ y_sigmoid>=0.5 ] = 1    \n",
    "\n",
    "confusion_matrix(y_test, y_pred, labels=range(2))"
   ]
  },
  {
   "cell_type": "markdown",
   "id": "a253fe43-bf2e-4774-abf4-9cb1d7d6c67b",
   "metadata": {},
   "source": [
    "## Questions\n",
    "\n",
    "1. Compare empirically this model to the one of the previous part (with one-hot encoded features): which one is best in terms of performance, memory and runtime? Which one would you choose and why?\n",
    "2. What are the theoretical advantages and disadvantages of each approach (in terms of performance, computation, interpretability...)?\n",
    "3. Change the dimension of the embedding space. How does it influence performance? How would you choose this dimension?"
   ]
  },
  {
   "cell_type": "markdown",
   "id": "0109e22f-7cd2-4fe4-a649-40f7d0efa149",
   "metadata": {},
   "source": [
    "## Step 5 - Have a look at the embeddings\n",
    "### 5.1 Retrieve embeddings"
   ]
  },
  {
   "cell_type": "code",
   "execution_count": null,
   "id": "75dc0159-f847-4972-a581-354241bae480",
   "metadata": {},
   "outputs": [],
   "source": [
    "embeddings = model.layers[0].get_weights()[0]\n",
    "print('Shape of embeddings : ',embeddings.shape)"
   ]
  },
  {
   "cell_type": "markdown",
   "id": "6abfeeca-9f31-4d2c-88ed-0f55e3163143",
   "metadata": {},
   "source": [
    "### 5.2 - Build a nice dictionary"
   ]
  },
  {
   "cell_type": "code",
   "execution_count": null,
   "id": "b354f38f-8870-4fe1-86a5-b25bcb92c73f",
   "metadata": {},
   "outputs": [],
   "source": [
    "word_embedding = { index_word[i]:embeddings[i] for i in range(vocab_size) }"
   ]
  },
  {
   "cell_type": "markdown",
   "id": "0bbbc1c7-2f67-433c-bbd6-2f877604d762",
   "metadata": {
    "tags": []
   },
   "source": [
    "### 5.3 Show embedding of a word :"
   ]
  },
  {
   "cell_type": "code",
   "execution_count": null,
   "id": "0b78150c-56d6-4992-bd09-b18bbbcbf368",
   "metadata": {},
   "outputs": [],
   "source": [
    "word_embedding['nice']"
   ]
  },
  {
   "cell_type": "markdown",
   "id": "e56afe0d-6e09-4bcd-9879-eda46f073a46",
   "metadata": {},
   "source": [
    "#### Few usefull functions to play with"
   ]
  },
  {
   "cell_type": "code",
   "execution_count": null,
   "id": "1c5fcc79-6217-4e92-9270-5dd8a6f85ca5",
   "metadata": {},
   "outputs": [],
   "source": [
    "# Return a l2 distance between 2 words\n",
    "#\n",
    "def l2w(w1,w2):\n",
    "    v1=word_embedding[w1]\n",
    "    v2=word_embedding[w2]\n",
    "    return np.linalg.norm(v2-v1)\n",
    "\n",
    "# Show distance between 2 words \n",
    "#\n",
    "def show_l2(w1,w2):\n",
    "    print(f'\\nL2 between [{w1}] and [{w2}] : ',l2w(w1,w2))\n",
    "\n",
    "# Displays the 15 closest words to a given word\n",
    "#\n",
    "def neighbors(w1):\n",
    "    v1=word_embedding[w1]\n",
    "    dd={}\n",
    "    for i in range(4, 1000):\n",
    "        w2=index_word[i]\n",
    "        dd[w2]=l2w(w1,w2)\n",
    "    dd= {k: v for k, v in sorted(dd.items(), key=lambda item: item[1])}\n",
    "    print(f'\\nNeighbors of [{w1}] : ', list(dd.keys())[1:15])\n",
    "    "
   ]
  },
  {
   "cell_type": "markdown",
   "id": "f8313f3c-e3c3-4a6f-bd1c-4cd182548ff6",
   "metadata": {},
   "source": [
    "### 5.4 Examples"
   ]
  },
  {
   "cell_type": "code",
   "execution_count": null,
   "id": "74e05678-96c1-408e-96fb-7232d6e074bf",
   "metadata": {},
   "outputs": [],
   "source": [
    "show_l2('nice', 'pleasant')\n",
    "show_l2('nice', 'horrible')\n",
    "\n",
    "neighbors('horrible')\n",
    "neighbors('great')\n"
   ]
  },
  {
   "cell_type": "markdown",
   "id": "b829d80c-dc20-4dbd-9596-879cf9fe291e",
   "metadata": {},
   "source": [
    "## Question\n",
    "\n",
    "1. Is this method designed to force the embeddings to have semantic meaning?\n",
    "2. Give a visualization of the word embeddings by doing a PCA on the embedding matrix. Plot some of the words the space of the first two Principal Components. \n",
    "3. Give some interpretation on the PCs of these embeddings."
   ]
  },
  {
   "cell_type": "markdown",
   "id": "bdbb5916-0445-4bb3-92bf-eb552e9662bc",
   "metadata": {},
   "source": [
    "# Part 3: Train a GRU"
   ]
  },
  {
   "cell_type": "markdown",
   "id": "32dd869c-0763-499b-a966-41735d630ac8",
   "metadata": {},
   "source": [
    "## Step 1 : Parameters"
   ]
  },
  {
   "cell_type": "code",
   "execution_count": null,
   "id": "0b2c133a-9a36-4576-808a-9b00baeab960",
   "metadata": {},
   "outputs": [],
   "source": [
    "epochs               = 10\n",
    "batch_size           = 128"
   ]
  },
  {
   "cell_type": "markdown",
   "id": "0b778bad-5dc7-46c4-beec-22e22e0b722c",
   "metadata": {},
   "source": [
    "## Step 2 : Build the model"
   ]
  },
  {
   "cell_type": "code",
   "execution_count": null,
   "id": "05491e8f-ac67-4b14-90e6-b76208f1f6ee",
   "metadata": {},
   "outputs": [],
   "source": [
    "def get_model(dense_vector_size=128):\n",
    "    \n",
    "    model = keras.Sequential()\n",
    "    model.add(keras.layers.Embedding(input_dim = vocab_size, output_dim = dense_vector_size))\n",
    "    model.add(keras.layers.GRU(50))\n",
    "    model.add(keras.layers.Dense(1, activation='sigmoid'))\n",
    "\n",
    "    model.compile(optimizer = 'rmsprop',\n",
    "                  loss      = 'binary_crossentropy',\n",
    "                  metrics   = ['accuracy'])\n",
    "    return model"
   ]
  },
  {
   "cell_type": "markdown",
   "id": "7c7bf05d-7ca0-4bd7-8441-7e4f47700fdd",
   "metadata": {},
   "source": [
    "## Step 3 - Train the model\n",
    "### 3.1 - Get it"
   ]
  },
  {
   "cell_type": "code",
   "execution_count": null,
   "id": "6c5d4ed0-66c3-4d00-b75d-e95101d72e9c",
   "metadata": {},
   "outputs": [],
   "source": [
    "model = get_model(32)\n",
    "\n",
    "model.summary()"
   ]
  },
  {
   "cell_type": "markdown",
   "id": "ba504608-7554-46d3-80d4-faa6951f8b13",
   "metadata": {},
   "source": [
    "### 3.2 - Add callback"
   ]
  },
  {
   "cell_type": "code",
   "execution_count": null,
   "id": "4ced5fa2-02d7-4e1e-abec-a6a0cb6e106b",
   "metadata": {},
   "outputs": [],
   "source": [
    "os.makedirs(f'{run_dir}/models',   mode=0o750, exist_ok=True)\n",
    "save_dir = f'{run_dir}/models/best_model_gru.h5'\n",
    "savemodel_callback = tf.keras.callbacks.ModelCheckpoint(filepath=save_dir, verbose=0, save_best_only=True)"
   ]
  },
  {
   "cell_type": "markdown",
   "id": "67acba6e-3979-4a4a-bc37-ab53a27aad78",
   "metadata": {},
   "source": [
    "### 3.3 - Train it"
   ]
  },
  {
   "cell_type": "code",
   "execution_count": null,
   "id": "eed8335b-a65a-401b-8b4e-b2c62da1acea",
   "metadata": {},
   "outputs": [],
   "source": [
    "%%time\n",
    "\n",
    "history = model.fit(x_train_pad,\n",
    "                    y_train,\n",
    "                    epochs          = epochs,\n",
    "                    batch_size      = batch_size,\n",
    "                    validation_data = (x_test_pad, y_test),\n",
    "                    verbose         = fit_verbosity,\n",
    "                    callbacks       = [savemodel_callback])\n"
   ]
  },
  {
   "cell_type": "markdown",
   "id": "6cf4b8eb-5d0d-47cd-a156-b06c96e7e1b4",
   "metadata": {},
   "source": [
    "## Step 4 - Evaluate\n",
    "### 4.1 - Training history"
   ]
  },
  {
   "cell_type": "code",
   "execution_count": null,
   "id": "c049203a-9085-41c6-845c-0e5fce71fd94",
   "metadata": {},
   "outputs": [],
   "source": [
    "plt.plot(history.history['loss'])\n",
    "plt.plot(history.history['val_loss'])\n",
    "plt.title('model loss')\n",
    "plt.ylabel('loss')\n",
    "plt.xlabel('epoch')\n",
    "plt.legend(['train', 'test'], loc='upper left')\n",
    "plt.show()"
   ]
  },
  {
   "cell_type": "code",
   "execution_count": null,
   "id": "b83b97ba-167d-4c96-bd09-f61e6e15e58f",
   "metadata": {},
   "outputs": [],
   "source": [
    "plt.plot(history.history['accuracy'])\n",
    "plt.plot(history.history['val_accuracy'])\n",
    "plt.title('model accuracy')\n",
    "plt.ylabel('accuracy')\n",
    "plt.xlabel('epoch')\n",
    "plt.legend(['train', 'test'], loc='upper left')\n",
    "plt.show()"
   ]
  },
  {
   "cell_type": "markdown",
   "id": "e8631c4c-484e-4888-aeab-acbcc500cc17",
   "metadata": {},
   "source": [
    "### 4.2 - Reload and evaluate best model"
   ]
  },
  {
   "cell_type": "code",
   "execution_count": null,
   "id": "4815d1e5-89f6-4c14-b166-54f246543548",
   "metadata": {},
   "outputs": [],
   "source": [
    "model = keras.models.load_model(f'{run_dir}/models/best_model_gru.h5')\n",
    "\n",
    "# ---- Evaluate\n",
    "score  = model.evaluate(x_test_pad, y_test, verbose=0)\n",
    "\n",
    "print('x_test / loss      : {:5.4f}'.format(score[0]))\n",
    "print('x_test / accuracy  : {:5.4f}'.format(score[1]))\n",
    "\n",
    "values=[score[1], 1-score[1]]\n",
    "\n",
    "# ---- Confusion matrix\n",
    "\n",
    "y_sigmoid = model.predict(x_test_pad)\n",
    "\n",
    "y_pred = y_sigmoid.copy()\n",
    "y_pred[ y_sigmoid< 0.5 ] = 0\n",
    "y_pred[ y_sigmoid>=0.5 ] = 1    \n",
    "\n",
    "confusion_matrix(y_test, y_pred, labels=range(2))"
   ]
  },
  {
   "cell_type": "markdown",
   "id": "abbdc2af-aa9f-4aca-9af3-7e578c1f25db",
   "metadata": {},
   "source": [
    "## Questions\n",
    "\n",
    "1. What is the main advantage of this model compared to the previous ones?\n",
    "2. Compare empirically the performance of the 3 models. Which one would you choose and why?\n",
    "3. Change the model to use one-hot encoding instead of word embeddings, but keeping a GRU layer. Train it and compare the performance.\n",
    "4. Play with other recurrent architectures, as described in the [Documentation](https://keras.io/api/layers/recurrent_layers/) and compare their performance. In particular you can compare a bi-directional GRU to a simple GRU, and also use a Long-Short Term Memory Network (LSTM)."
   ]
  },
  {
   "cell_type": "code",
   "execution_count": null,
   "id": "c2593a1b-30fe-43b0-b64f-8f2fcca9e380",
   "metadata": {},
   "outputs": [],
   "source": []
  }
 ],
 "metadata": {
  "kernelspec": {
   "display_name": "Python 3",
   "language": "python",
   "name": "python3"
  },
  "language_info": {
   "codemirror_mode": {
    "name": "ipython",
    "version": 3
   },
   "file_extension": ".py",
   "mimetype": "text/x-python",
   "name": "python",
   "nbconvert_exporter": "python",
   "pygments_lexer": "ipython3",
   "version": "3.7.16"
  }
 },
 "nbformat": 4,
 "nbformat_minor": 5
}
